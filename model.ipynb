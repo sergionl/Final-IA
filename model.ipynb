{
 "cells": [
  {
   "cell_type": "markdown",
   "metadata": {},
   "source": [
    "## Aviso\n",
    "\n",
    "Mirar el archivo utils.py para informacion mas detallada de las funciones y para ver funciones que son necesarias para el funcionamiento del juego"
   ]
  },
  {
   "cell_type": "markdown",
   "metadata": {},
   "source": [
    "# Imports"
   ]
  },
  {
   "cell_type": "code",
   "execution_count": 1,
   "metadata": {},
   "outputs": [],
   "source": [
    "import numpy as np"
   ]
  },
  {
   "cell_type": "markdown",
   "metadata": {},
   "source": [
    "# Funciones"
   ]
  },
  {
   "cell_type": "markdown",
   "metadata": {},
   "source": [
    "## Crear lista de cartas\n",
    "Se crea una lista de cartas, para este ejemplo no es muy util pero es necesario para el juego"
   ]
  },
  {
   "cell_type": "code",
   "execution_count": 12,
   "metadata": {},
   "outputs": [
    {
     "name": "stdout",
     "output_type": "stream",
     "text": [
      "['Mora', 'Blanco', 'Amapola', 'Prado', 'Rubio', 'Celeste']\n",
      "['Patio', 'Estudio', 'Comedor', 'Garaje', 'Salon', 'Dormitorio']\n",
      "['Racismo', 'Homofobia', 'Transfobia', 'Xenofobia', 'Sexismo', 'Discriminacion por discapacidad']\n"
     ]
    }
   ],
   "source": [
    "def cartas():\n",
    "    cartasCulpable=['Mora','Blanco','Amapola','Prado','Rubio','Celeste']\n",
    "    cartasLugar=['Patio','Estudio','Comedor','Garaje','Salon','Dormitorio']\n",
    "    cartasMotivo=['Racismo','Homofobia','Transfobia','Xenofobia','Sexismo','Discriminacion por discapacidad']\n",
    "\n",
    "    cartas = [cartasCulpable,cartasLugar,cartasMotivo]\n",
    "    return cartas\n",
    "lcartas = cartas()\n",
    "for i in range(3):\n",
    "    print(lcartas[i])\n"
   ]
  },
  {
   "cell_type": "markdown",
   "metadata": {},
   "source": [
    "## Crear base de conocimiento\n",
    "Se crea una base de conocimiento, esta tiene forma de una matriz de 3x6, ya que esa son la cantidad de cartas en el juego.\n",
    "La base de conocimiento tiene datos iniciales en -1, ya que este representa falta de informacion"
   ]
  },
  {
   "cell_type": "code",
   "execution_count": 13,
   "metadata": {},
   "outputs": [],
   "source": [
    "def createKb():\n",
    "    kb = np.zeros((3,6))\n",
    "    for i in range(18):\n",
    "        kb.itemset(i,-1)\n",
    "    #print(kb)\n",
    "    return kb\n",
    "Example = createKb()\n",
    "#print(type(Example))"
   ]
  },
  {
   "cell_type": "markdown",
   "metadata": {},
   "source": [
    "## Cambiar valores\n",
    "Cambia los valores a la base de conocimiento.\n",
    "0 representa que esa carta no es la respuesta\n",
    "1 representa que esa carta es parte de la respuesta"
   ]
  },
  {
   "cell_type": "code",
   "execution_count": 9,
   "metadata": {},
   "outputs": [
    {
     "name": "stdout",
     "output_type": "stream",
     "text": [
      "[[-1.  1.  0. -1. -1. -1.]\n",
      " [-1. -1.  1. -1. -1. -1.]\n",
      " [-1. -1. -1. -1. -1. -1.]]\n"
     ]
    }
   ],
   "source": [
    "def changeValue(kb, card, info):\n",
    "    if info:\n",
    "        kb.itemset(card, 1)\n",
    "    else:\n",
    "        kb.itemset(card, 0)\n",
    "    return kb\n",
    "\n",
    "Example = changeValue(Example,(0,1),True)\n",
    "Example = changeValue(Example,(0,2),False)\n",
    "Example = changeValue(Example,(1,2),True)\n",
    "print(Example)\n"
   ]
  },
  {
   "cell_type": "markdown",
   "metadata": {},
   "source": [
    "## Seguridad\n",
    "Esta funcion muestra si nuestra base de conocimiento tiene certeza sobre algun tipo de cartas\n",
    "Se basa en la regla solo una carta de cada tipo es la respuesta correcta, esto se puede entender como:\n",
    "\n",
    "-Solo existe una carta de culpables que es el culpable:  ∃x. (CartaCulpable(x) ∧ Culpable(x))\n",
    "\n",
    "-Solo existe una carta de lugares que es el lugar:  ∃x. (CartaLugar(x) ∧ Lugar(x))\n",
    "\n",
    "-Solo existe una carta de motivos que es el motivo:  ∃x. (CartaMotivo(x) ∧ Motivo(x))"
   ]
  },
  {
   "cell_type": "code",
   "execution_count": 16,
   "metadata": {},
   "outputs": [
    {
     "name": "stdout",
     "output_type": "stream",
     "text": [
      "Carta Celeste es parte de la respuesta\n",
      "La base de conocimiento no tiene informacion suficiente sobre El lugar\n"
     ]
    }
   ],
   "source": [
    "def seeSecurity(kb,cardType,cartas):\n",
    "    count0 = 0\n",
    "    for i in range(6):\n",
    "        if kb[cardType,i] == 0:\n",
    "            count0 +=1\n",
    "        if kb[cardType,i] == 1:\n",
    "            mensaje=\"Carta {0} es parte de la respuesta\".format(cartas[cardType][i])\n",
    "            return kb,mensaje\n",
    "    if count0 == 5:\n",
    "        for i in range(6):\n",
    "            if kb[cardType,i] == -1:\n",
    "                kb = changeValue(kb,(cardType,i),True)\n",
    "                mensaje=\"Carta {0} es parte de la respuesta\".format(cartas[cardType][i])\n",
    "                return kb,mensaje\n",
    "    mensaje=\"La base de conocimiento no tiene informacion suficiente sobre \"\n",
    "    if cardType==0:\n",
    "        mensaje+=\"Los culpables\"\n",
    "    elif cardType==1:\n",
    "        mensaje+=\"El lugar\"\n",
    "    else:\n",
    "        mensaje+=\"El motivo\" \n",
    "    return kb,mensaje\n",
    "\n",
    "seeSecurity(Example,0,lcartas)\n",
    "\n",
    "Example2 = createKb()\n",
    "for i in range(5):\n",
    "    Example2 = changeValue(Example2,(0,i),False)\n",
    "Example2,m=seeSecurity(Example2,0,lcartas)\n",
    "print(m)\n",
    "#print(Example2)\n",
    "Example2,m=seeSecurity(Example2,1,lcartas)\n",
    "print(m)"
   ]
  },
  {
   "cell_type": "markdown",
   "metadata": {},
   "source": [
    "## Verificación\n",
    "\n",
    "Revisa si la acusacion de un jugador es correcta.\n",
    "\n",
    "Esta solo es correcta si el jugador acierta el culpable, el motivo y el lugar.\n",
    "\n",
    "∀x. (Culpable(x) ∧ Lugar(y) ∧ Motivo (z) →RespuestaCorrecta(x,y,z))\n"
   ]
  },
  {
   "cell_type": "code",
   "execution_count": null,
   "metadata": {},
   "outputs": [],
   "source": [
    "def verification(numeroPersona,numeroMotivo,numeroLugar,cartasganadoras):\n",
    "\n",
    "    if numeroPersona not in cartasganadoras:\n",
    "        mensaje=\"Perdiste\"\n",
    "        return mensaje\n",
    "    if numeroMotivo not in cartasganadoras:\n",
    "        mensaje=\"Perdiste\"\n",
    "        return mensaje\n",
    "    if numeroLugar not in cartasganadoras:\n",
    "        mensaje=\"Perdiste\"\n",
    "        return mensaje\n",
    "    mensaje=\"Ganaste\"\n",
    "    return mensaje\n",
    "    "
   ]
  }
 ],
 "metadata": {
  "interpreter": {
   "hash": "de83438fe19a5ffd6537676152bac820f50b05a8d5e297daee9237081f2b6a5c"
  },
  "kernelspec": {
   "display_name": "Python 3.8.12 64-bit ('tfIA': conda)",
   "language": "python",
   "name": "python3"
  },
  "language_info": {
   "codemirror_mode": {
    "name": "ipython",
    "version": 3
   },
   "file_extension": ".py",
   "mimetype": "text/x-python",
   "name": "python",
   "nbconvert_exporter": "python",
   "pygments_lexer": "ipython3",
   "version": "3.8.12"
  },
  "orig_nbformat": 4
 },
 "nbformat": 4,
 "nbformat_minor": 2
}
