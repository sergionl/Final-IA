{
 "cells": [
  {
   "cell_type": "code",
   "execution_count": 1,
   "metadata": {},
   "outputs": [],
   "source": [
    "import numpy as np"
   ]
  },
  {
   "cell_type": "code",
   "execution_count": 2,
   "metadata": {},
   "outputs": [
    {
     "name": "stdout",
     "output_type": "stream",
     "text": [
      "['Mora', 'Blanco', 'Amapola', 'Prado', 'Rubio', 'Celeste']\n",
      "['Patio', 'Estudio', 'Comedor', 'Garaje', 'Salon', 'Dormitorio']\n",
      "['Racismo', 'Homofobia', 'Transfobia', 'Xenofobia', 'Sexismo', 'Discriminacion por discapacidad']\n"
     ]
    }
   ],
   "source": [
    "cartasCulpable=['Mora','Blanco','Amapola','Prado','Rubio','Celeste']\n",
    "cartasLugar=['Patio','Estudio','Comedor','Garaje','Salon','Dormitorio']\n",
    "cartasMotivo=['Racismo','Homofobia','Transfobia','Xenofobia','Sexismo','Discriminacion por discapacidad']\n",
    "\n",
    "#print(cartasCulpable)\n",
    "#print(cartasLugar)\n",
    "#print(cartasMotivo)\n",
    "cards = [cartasCulpable,cartasLugar,cartasMotivo]\n",
    "for elem in cards:\n",
    "    print(elem)\n"
   ]
  },
  {
   "cell_type": "code",
   "execution_count": 4,
   "metadata": {},
   "outputs": [
    {
     "name": "stdout",
     "output_type": "stream",
     "text": [
      "[[-1. -1. -1. -1. -1. -1.]\n",
      " [-1. -1. -1. -1. -1. -1.]\n",
      " [-1. -1. -1. -1. -1. -1.]]\n"
     ]
    }
   ],
   "source": [
    "def createKb():\n",
    "    kb = np.zeros((3,6))\n",
    "    for i in range(18):\n",
    "        kb.itemset(i,-1)\n",
    "    #print(kb)\n",
    "    return kb\n",
    "Example = createKb()\n",
    "#print(type(Example))"
   ]
  },
  {
   "cell_type": "code",
   "execution_count": 4,
   "metadata": {},
   "outputs": [
    {
     "name": "stdout",
     "output_type": "stream",
     "text": [
      "[[-1.  1.  1. -1. -1. -1.]\n",
      " [-1. -1. -1. -1. -1. -1.]\n",
      " [-1. -1. -1. -1. -1. -1.]]\n"
     ]
    }
   ],
   "source": [
    "def changeValue(kb,cardType,card,info):\n",
    "    if info:\n",
    "        kb.itemset((cardType,card),1)\n",
    "    else:\n",
    "        kb.itemset((cardType,card),0)\n",
    "\n",
    "changeValue(Example,0,1,True)\n",
    "changeValue(Example,0,2,True)\n",
    "print(Example)\n"
   ]
  },
  {
   "cell_type": "code",
   "execution_count": 15,
   "metadata": {},
   "outputs": [
    {
     "name": "stdout",
     "output_type": "stream",
     "text": [
      "Carta Blanco es parte de la respuesta\n",
      "Carta Celeste es parte de la respuesta\n",
      "[[ 0.  0.  0.  0.  0. -1.]\n",
      " [-1. -1. -1. -1. -1. -1.]\n",
      " [-1. -1. -1. -1. -1. -1.]]\n",
      "La base de conocimiento no tiene informacion suficiente\n"
     ]
    }
   ],
   "source": [
    "def seeSecurity(kb,cardType):\n",
    "    count0 = 0\n",
    "    for i in range(6):\n",
    "        if kb[cardType,i] == 0:\n",
    "            count0 +=1\n",
    "        if kb[cardType,i] == 1:\n",
    "            print(\"Carta {0} es parte de la respuesta\".format(cards[cardType][i]))\n",
    "            return\n",
    "    if count0 == 5:\n",
    "        for i in range(6):\n",
    "            if kb[cardType,i] == -1:\n",
    "                print(\"Carta {0} es parte de la respuesta\".format(cards[cardType][i]))\n",
    "                return\n",
    "    print(\"La base de conocimiento no tiene informacion suficiente\")\n",
    "\n",
    "seeSecurity(Example,0)\n",
    "\n",
    "Example2 = createKb()\n",
    "for i in range(5):\n",
    "    changeValue(Example2,0,i,False)\n",
    "seeSecurity(Example2,0)\n",
    "print(Example2)\n",
    "seeSecurity(Example2,1)"
   ]
  }
 ],
 "metadata": {
  "interpreter": {
   "hash": "de83438fe19a5ffd6537676152bac820f50b05a8d5e297daee9237081f2b6a5c"
  },
  "kernelspec": {
   "display_name": "Python 3.8.12 64-bit ('tfIA': conda)",
   "language": "python",
   "name": "python3"
  },
  "language_info": {
   "codemirror_mode": {
    "name": "ipython",
    "version": 3
   },
   "file_extension": ".py",
   "mimetype": "text/x-python",
   "name": "python",
   "nbconvert_exporter": "python",
   "pygments_lexer": "ipython3",
   "version": "3.7.11"
  },
  "orig_nbformat": 4
 },
 "nbformat": 4,
 "nbformat_minor": 2
}
